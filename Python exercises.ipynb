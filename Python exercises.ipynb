{
 "cells": [
  {
   "cell_type": "markdown",
   "id": "81a5815e",
   "metadata": {},
   "source": [
    "## Python exercises"
   ]
  },
  {
   "cell_type": "markdown",
   "id": "88d5cda4",
   "metadata": {},
   "source": [
    "1.\tWrite a Python program to loop through all the elements in a list \n",
    "  \n",
    "Ex:   \n",
    "Input: [1,2,3,4,5,6] Output:  \n",
    "1 \n",
    "2 \n",
    "3 \n",
    "4 \n",
    "5 \n",
    "6 \n"
   ]
  },
  {
   "cell_type": "code",
   "execution_count": 1,
   "id": "c5d8f353",
   "metadata": {},
   "outputs": [
    {
     "name": "stdout",
     "output_type": "stream",
     "text": [
      "1\n",
      "2\n",
      "3\n",
      "4\n",
      "5\n",
      "6\n"
     ]
    }
   ],
   "source": [
    "list= [1,2,3,4,5,6]\n",
    "for i in list :\n",
    "    print(i)"
   ]
  },
  {
   "cell_type": "markdown",
   "id": "ed64bb52",
   "metadata": {},
   "source": [
    "2.\tWrite a Python program where you will ask the users to insert elements in a list  "
   ]
  },
  {
   "cell_type": "code",
   "execution_count": 6,
   "id": "a224640e",
   "metadata": {},
   "outputs": [
    {
     "name": "stdout",
     "output_type": "stream",
     "text": [
      "enter the number of users -- 3\n",
      "enter the element --lzisuv\n",
      "enter the element --;osdni\n",
      "enter the element --euivn\n",
      "['lzisuv', ';osdni', 'euivn']\n"
     ]
    }
   ],
   "source": [
    "lst2=[]\n",
    "n=int(input('enter the number of users -- '))\n",
    "for i in range(1,n+1):\n",
    "    el=input('enter the element --')\n",
    "    \n",
    "    lst2.append(el)\n",
    "print(lst2)"
   ]
  },
  {
   "cell_type": "markdown",
   "id": "81870210",
   "metadata": {},
   "source": [
    "3.\tWrite a Python program to remove all the odd index value from a list and only even index elements should remain \n",
    "  \n",
    "Ex:   \n",
    "Input: [1,2,3,4,5,6,7,”a”] \n",
    "Output: [1,3,5,7] "
   ]
  },
  {
   "cell_type": "code",
   "execution_count": 10,
   "id": "fedd6737",
   "metadata": {},
   "outputs": [
    {
     "name": "stdout",
     "output_type": "stream",
     "text": [
      "[1, 3, 5, 7]\n"
     ]
    }
   ],
   "source": [
    "lst3=[1,2,3,4,5,6,7,'a']\n",
    "\n",
    "print(lst3[::2])"
   ]
  },
  {
   "cell_type": "markdown",
   "id": "ca46856c",
   "metadata": {},
   "source": [
    "4.\tWrite a Python program to sum and multiply all the items in a list \n",
    "Ex:  \n",
    "Input: [1,2,3,4] \n",
    "Output: sum: -10 \n",
    "              Product: -24 \n"
   ]
  },
  {
   "cell_type": "code",
   "execution_count": 52,
   "id": "574b8c02",
   "metadata": {},
   "outputs": [
    {
     "name": "stdout",
     "output_type": "stream",
     "text": [
      "10\n",
      "24\n"
     ]
    }
   ],
   "source": [
    "lst4 = [1, 2, 3, 4]\n",
    "sum = 0\n",
    "prod = 1\n",
    "for i in lst4:\n",
    "    sum+=i\n",
    "    prod*=i\n",
    "print(sum)\n",
    "print(prod)"
   ]
  },
  {
   "cell_type": "markdown",
   "id": "11cd8cfd",
   "metadata": {},
   "source": [
    "5.\tWrite a Python program to get the maximum and minimum numbers from a list \n",
    "Ex:  \n",
    "Input: [8,4,11,7,90] \n",
    "Output: max: - 90 \n",
    "             Min: - 4 \n"
   ]
  },
  {
   "cell_type": "code",
   "execution_count": 57,
   "id": "9957eaf9",
   "metadata": {},
   "outputs": [
    {
     "name": "stdout",
     "output_type": "stream",
     "text": [
      "largest 90\n",
      "smallest 4\n"
     ]
    }
   ],
   "source": [
    "lst5=[8,4,11,7,90]\n",
    "print('largest',max(lst5))\n",
    "print('smallest',min(lst5))"
   ]
  },
  {
   "cell_type": "markdown",
   "id": "c4837643",
   "metadata": {},
   "source": [
    "6.\tWrite a Python program to print a specified list after removing the 0th, 4th and 5th elements.  \n",
    " \n",
    "Ex:  \n",
    "Input: ['Red', 'Green', 'White', 'Black', 'Pink', 'Yellow'] \n",
    " \n",
    "Output: ['Green', 'White', 'Black'] \n"
   ]
  },
  {
   "cell_type": "code",
   "execution_count": 70,
   "id": "7e24401e",
   "metadata": {},
   "outputs": [
    {
     "data": {
      "text/plain": [
       "['Green', 'White', 'Black']"
      ]
     },
     "execution_count": 70,
     "metadata": {},
     "output_type": "execute_result"
    }
   ],
   "source": [
    "l6=['Red', 'Green', 'White', 'Black', 'Pink', 'Yellow']\n",
    "\n",
    "l6.pop(5)\n",
    "l6.pop(4)\n",
    "l6.pop(0)\n",
    "\n",
    "l6"
   ]
  },
  {
   "cell_type": "markdown",
   "id": "3e17f7f8",
   "metadata": {},
   "source": [
    "7.\tWrite a Python program to convert a list of characters into a string \n"
   ]
  },
  {
   "cell_type": "code",
   "execution_count": 74,
   "id": "861501c7",
   "metadata": {},
   "outputs": [
    {
     "name": "stdout",
     "output_type": "stream",
     "text": [
      "<class 'str'>\n"
     ]
    }
   ],
   "source": [
    "l7=['H','e','l','l','o']\n",
    "string=str(l7)\n",
    "print(type(string))"
   ]
  },
  {
   "cell_type": "markdown",
   "id": "0546f9a6",
   "metadata": {},
   "source": [
    "8.\tWrite a Python program to compute average of given lists. \n"
   ]
  },
  {
   "cell_type": "code",
   "execution_count": 85,
   "id": "a6218400",
   "metadata": {},
   "outputs": [
    {
     "name": "stdout",
     "output_type": "stream",
     "text": [
      "55\n",
      "average of the list is : 5.5\n"
     ]
    }
   ],
   "source": [
    "l8=[i for i in range(1,11)]\n",
    "sum=0\n",
    "for i in l8:\n",
    "    sum+=i\n",
    "print(sum)\n",
    "print('average of the list is :',sum/len(l8))"
   ]
  },
  {
   "cell_type": "markdown",
   "id": "4ad854f0",
   "metadata": {},
   "source": [
    "9.\tWrite a Python program to count integer in a given mixed list. \n",
    "Input: [10, “a”,2,3,5.5,1.34,” Abc”,” rt”] Output: Number of integers in the list: 5\n",
    "\n"
   ]
  },
  {
   "cell_type": "code",
   "execution_count": 102,
   "id": "f3fb3061",
   "metadata": {},
   "outputs": [
    {
     "name": "stdout",
     "output_type": "stream",
     "text": [
      "5\n"
     ]
    }
   ],
   "source": [
    "l9= [10, 'a',2,3,5.5,1.34,'Abc','rt']\n",
    "n=0\n",
    "for i in l9:\n",
    "    if type(i)==int or type(i)==float:\n",
    "        n=n+1\n",
    "print(n)"
   ]
  },
  {
   "cell_type": "markdown",
   "id": "87628b32",
   "metadata": {},
   "source": [
    "10.\tWrite a Python program to reverse the list   \n"
   ]
  },
  {
   "cell_type": "code",
   "execution_count": 109,
   "id": "c202b90e",
   "metadata": {},
   "outputs": [
    {
     "name": "stdout",
     "output_type": "stream",
     "text": [
      "original order of the lsi is :  [1, 2, 3, 4, 5, 6, 7, 8, 9, 10, 11, 12, 13, 14, 15]\n",
      "reversed order of the given list is :  [15, 14, 13, 12, 11, 10, 9, 8, 7, 6, 5, 4, 3, 2, 1]\n"
     ]
    }
   ],
   "source": [
    "l10=[i for i in range(1,16)]\n",
    "print('original order of the lsi is : ',l10)\n",
    "print('reversed order of the given list is : ',l10[::-1])\n"
   ]
  },
  {
   "cell_type": "markdown",
   "id": "ca75d04c",
   "metadata": {},
   "source": [
    "11.\tWrite a Python program convert a given string to a tuple Ex: \n",
    "Input: “python1.2” \n",
    "Output: (“p”,” y”,”t”,”h”,” o”,” n”,”1”,”.”,”2”) \n"
   ]
  },
  {
   "cell_type": "code",
   "execution_count": 111,
   "id": "1635e13a",
   "metadata": {},
   "outputs": [],
   "source": [
    "l11='python1.2'"
   ]
  },
  {
   "cell_type": "code",
   "execution_count": 112,
   "id": "a3f89f77",
   "metadata": {},
   "outputs": [
    {
     "data": {
      "text/plain": [
       "('p', 'y', 't', 'h', 'o', 'n', '1', '.', '2')"
      ]
     },
     "execution_count": 112,
     "metadata": {},
     "output_type": "execute_result"
    }
   ],
   "source": [
    "tuple(l11)"
   ]
  },
  {
   "cell_type": "markdown",
   "id": "8f0a7bb3",
   "metadata": {},
   "source": [
    ">Thank"
   ]
  },
  {
   "cell_type": "code",
   "execution_count": null,
   "id": "8f7d0e09",
   "metadata": {},
   "outputs": [],
   "source": []
  }
 ],
 "metadata": {
  "kernelspec": {
   "display_name": "Python 3 (ipykernel)",
   "language": "python",
   "name": "python3"
  },
  "language_info": {
   "codemirror_mode": {
    "name": "ipython",
    "version": 3
   },
   "file_extension": ".py",
   "mimetype": "text/x-python",
   "name": "python",
   "nbconvert_exporter": "python",
   "pygments_lexer": "ipython3",
   "version": "3.9.12"
  }
 },
 "nbformat": 4,
 "nbformat_minor": 5
}
